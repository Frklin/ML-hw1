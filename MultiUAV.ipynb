{
 "cells": [
  {
   "cell_type": "markdown",
   "metadata": {},
   "source": [
    "# Machine Learning - Homework 1\n"
   ]
  },
  {
   "cell_type": "code",
   "execution_count": null,
   "metadata": {},
   "outputs": [],
   "source": [
    "#importing libraries\n",
    "import numpy as np\n",
    "import pandas as pd\n",
    "import random\n",
    "\n",
    "from sklearn.model_selection import train_test_split\n",
    "from sklearn.feature_extraction.text import *\n",
    "from sklearn.naive_bayes import *\n",
    "from sklearn.metrics import confusion_matrix, classification_report\n",
    "from sklearn.metrics import accuracy_score\n",
    "from matplotlib import pyplot as plt"
   ]
  },
  {
   "cell_type": "markdown",
   "metadata": {},
   "source": [
    "## Loading the dataset"
   ]
  },
  {
   "cell_type": "code",
   "execution_count": null,
   "metadata": {},
   "outputs": [],
   "source": [
    "dataset = pd.read_csv(\"train_set.tsv\", sep='\\t', header=0)\n",
    "X = dataset.iloc[:,:-2]\n",
    "y = dataset.iloc[:,-2]\n",
    "print('File loaded: %d samples.' %(len(dataset)))\n"
   ]
  },
  {
   "cell_type": "markdown",
   "metadata": {},
   "source": [
    "## Normalize the dataset"
   ]
  },
  {
   "cell_type": "code",
   "execution_count": null,
   "metadata": {},
   "outputs": [],
   "source": [
    "#normalize dataset with min-max normalization\n",
    "\n",
    "dataset = (dataset - dataset.min()) / (dataset.max() - dataset.min())\n"
   ]
  },
  {
   "cell_type": "code",
   "execution_count": null,
   "metadata": {},
   "outputs": [],
   "source": [
    "from matplotlib import colors\n",
    "\n",
    "def get_hist(data, feature, min_value = None, max_value = None, bins = 100):\n",
    "    if min_value is None:\n",
    "        min_value = data[feature].min()\n",
    "    if max_value is None:\n",
    "        max_value = data[feature].max()\n",
    "    tmp = data[(data[feature] >= min_value) & (data[feature] <= max_value)]\n",
    "    plt.hist(tmp.loc[:, feature], bins = bins)\n",
    "    plt.title('histogram distribution of {} (min_value: {}, max_value: {}, bins: {})'.format(feature, min_value, max_value, bins))\n",
    "    plt.show()\n",
    "    plt.close()\n",
    "    plt.hist2d(pd.Series(np.array([i for i in range(tmp.loc[:, feature].shape[0])])), tmp.loc[:, feature], bins=bins, norm = colors.LogNorm())\n",
    "    plt.title('2D histogram distribution of {} (min_value: {}, max_value: {}, bins: {})'.format(feature, min_value, max_value, bins))\n",
    "    plt.show()\n",
    "    plt.close()\n",
    "    return\n",
    "\n",
    "get_hist(dataset, 'num_collisions')\n",
    "get_hist(dataset, 'num_collisions',max_value=300)\n",
    "get_hist(dataset, 'num_collisions',max_value=100,bins=200)"
   ]
  },
  {
   "cell_type": "code",
   "execution_count": null,
   "metadata": {},
   "outputs": [],
   "source": [
    "from sklearn.ensemble import RandomForestRegressor\n",
    "\n",
    "rf = RandomForestRegressor(n_estimators=50, random_state=20, n_jobs=-1)\n",
    "rf.fit(X, y)\n",
    "rf.feature_importances_\n",
    "\n",
    "# plot feature_importances\n",
    "sorted_idx = rf.feature_importances_.argsort()\n",
    "plt.barh(X.columns[sorted_idx], rf.feature_importances_[sorted_idx])"
   ]
  },
  {
   "cell_type": "code",
   "execution_count": null,
   "metadata": {},
   "outputs": [],
   "source": [
    "# remove features with feature_importances < 0.01\n",
    "for importance, feature in zip(rf.feature_importances_, X.columns):\n",
    "    if importance < 0.01:\n",
    "        X = X.drop(feature, axis=1)\n",
    "\n",
    "# compute feature_importances again\n",
    "rf.fit(X, y)\n",
    "rf.feature_importances_\n",
    "\n",
    "# plot feature_importances again\n",
    "sorted_idx = rf.feature_importances_.argsort()\n",
    "plt.barh(X.columns[sorted_idx], rf.feature_importances_[sorted_idx])\n"
   ]
  },
  {
   "cell_type": "code",
   "execution_count": null,
   "metadata": {},
   "outputs": [],
   "source": [
    "new_df = dataset.copy()\n",
    "columns = []\n",
    "for col in dataset.columns:\n",
    "    if col not in X.columns and col != 'num_collisions':\n",
    "        new_df = new_df.drop(col, axis=1, errors='ignore')\n",
    "    else:\n",
    "        columns.append(col)\n",
    "entry_number_step1 = new_df.shape[0]\n",
    "\n",
    "# for col in new_df.columns:\n",
    "#     get_hist(new_df, col)\n",
    "\n"
   ]
  },
  {
   "cell_type": "markdown",
   "metadata": {},
   "source": [
    "### Removing the outliers"
   ]
  },
  {
   "cell_type": "code",
   "execution_count": null,
   "metadata": {},
   "outputs": [],
   "source": [
    "from scipy.stats import zscore\n",
    "#remove outliers\n",
    " \n",
    "\n",
    "z_scores = zscore(new_df)\n",
    "abs_z_scores = np.abs(z_scores)\n",
    "filtered_entries = (abs_z_scores < 5).all(axis=1)\n",
    "new_df = new_df[filtered_entries]\n",
    "\n",
    "entry_number_step2 = new_df.shape[0]\n",
    "print('Samples before dropping outliers: {}'.format(entry_number_step1))\n",
    "print('Samples after dropping outliers: {}'.format(entry_number_step2))\n",
    "print('Samples removed:',format(entry_number_step1-entry_number_step2))\n",
    "\n",
    "\n",
    "\n",
    "\n"
   ]
  },
  {
   "cell_type": "code",
   "execution_count": null,
   "metadata": {},
   "outputs": [],
   "source": [
    "from sklearn.preprocessing import MinMaxScaler\n",
    "from sklearn.preprocessing import KBinsDiscretizer\n",
    "\n",
    "X = new_df.drop('num_collisions', axis=1)\n",
    "y = new_df.num_collisions\n",
    "\n",
    "scaler = MinMaxScaler()\n",
    "x_scal = scaler.fit_transform(X)\n",
    "\n",
    "discretizer = KBinsDiscretizer(n_bins=5, encode='ordinal', strategy='kmeans')\n",
    "y_disc = discretizer.fit_transform(y.values.reshape(-1,1))"
   ]
  },
  {
   "cell_type": "code",
   "execution_count": null,
   "metadata": {},
   "outputs": [],
   "source": [
    "X_train, X_test, y_train, y_test = train_test_split(x_scal, y_disc,shuffle= True, stratify=y_disc, test_size=0.33, random_state=20)"
   ]
  },
  {
   "cell_type": "code",
   "execution_count": null,
   "metadata": {},
   "outputs": [],
   "source": [
    "from sklearn.tree import DecisionTreeClassifier\n",
    "from sklearn.ensemble import RandomForestClassifier\n",
    "from sklearn.svm import SVC\n",
    "from sklearn.neighbors import KNeighborsClassifier\n",
    "from sklearn.ensemble import AdaBoostClassifier\n",
    "from sklearn.neural_network import MLPClassifier\n",
    "\n",
    "\n",
    "random_state = 20\n",
    "\n",
    "models = {\n",
    "    'DT' : DecisionTreeClassifier(random_state=random_state),\n",
    "    'RF' : RandomForestClassifier(random_state=random_state),\n",
    "    'SVM' : SVC(random_state=random_state),\n",
    "    'KNN' : KNeighborsClassifier(),\n",
    "    'BOOST' : AdaBoostClassifier(random_state=random_state),\n",
    "    'MLPN' : MLPClassifier(random_state=random_state),\n",
    "}  \n"
   ]
  },
  {
   "cell_type": "code",
   "execution_count": null,
   "metadata": {},
   "outputs": [],
   "source": [
    "from sklearn.model_selection import cross_val_score\n",
    "import matplotlib.pyplot as plt\n",
    "import seaborn as sns\n",
    "\n",
    "\n",
    "def fit_models(models, X_train, y_train):\n",
    "    for name, model in models.items():\n",
    "        model.fit(X_train, y_train.ravel())\n",
    "        print(name, 'trained.')\n",
    "    return\n",
    "\n",
    "def evaluate_models(models, X_test, y_test, x_scal, y_disc):\n",
    "    for name, model in models.items():\n",
    "        y_pred = model.predict(X_test)\n",
    "        print(name)\n",
    "        print(classification_report(y_test, y_pred,zero_division=0))\n",
    "        cv_accuracy = cross_val_score(model, x_scal, y_disc.ravel(), n_jobs=-1, scoring='accuracy')\n",
    "        cv_f1_macro = cross_val_score(model, x_scal, y_disc.ravel(), n_jobs=-1, scoring='f1_macro')\n",
    "        print(cross_val_score(model, X_test, y_test, scoring='accuracy'))\n",
    "        print(\"%0.4f (+/- %0.4f)\" % (cv_accuracy.mean(), cv_accuracy.std() * 2))\n",
    "        print(cross_val_score(model, X_test, y_test, scoring='f1_macro'))\n",
    "        print(\"%0.4f (+/- %0.4f)\" % (cv_f1_macro.mean(), cv_f1_macro.std() * 2))\n",
    "        #plot confusion matrix\n",
    "        cm = confusion_matrix(y_test, y_pred)\n",
    "        plt.figure(figsize=(10,7))\n",
    "        sns.heatmap(cm, annot=True)\n",
    "        plt.xlabel('Predicted')\n",
    "        plt.ylabel('Truth')\n",
    "\n",
    "        plt.show()\n",
    "\n",
    "\n",
    "        print('------------------------------------')\n",
    "    return  \n",
    "\n",
    "\n",
    "fit_models(models, X_train, y_train)\n",
    "evaluate_models(models, X_test, y_test,x_scal, y_disc)"
   ]
  },
  {
   "cell_type": "markdown",
   "metadata": {},
   "source": [
    "### Under Sampling"
   ]
  },
  {
   "cell_type": "code",
   "execution_count": null,
   "metadata": {},
   "outputs": [],
   "source": [
    "c0 = min(np.count_nonzero(y_train == 0), int((1/3)*y_train.shape[0]))\n",
    "c1 = min(np.count_nonzero(y_train == 1), int((1/4)*y_train.shape[0]))\n",
    "c2 = min(np.count_nonzero(y_train == 2), int((1/5)*y_train.shape[0]))\n",
    "c3 = min(np.count_nonzero(y_train == 3), int((1/6)*y_train.shape[0]))\n",
    "c4 = min(np.count_nonzero(y_train == 4), int((1/7)*y_train.shape[0]))\n",
    "\n",
    "from imblearn.under_sampling import RandomUnderSampler\n",
    "\n",
    "rus = RandomUnderSampler(sampling_strategy={0:c0, 1:c1, 2:c2, 3:c3, 4:c4}, random_state=20)\n",
    "x_train_under, y_train_under = rus.fit_resample(X_train, y_train)\n",
    "\n",
    "x_train_under_dim = x_train_under.shape[0]\n",
    "print('Samples before undersampling: {}'.format(X_train.shape[0]))\n",
    "print('Samples after undersampling: {}'.format(x_train_under_dim))\n",
    "print('Samples removed: {}'.format(X_train.shape[0]-x_train_under_dim))\n",
    "\n",
    "\n",
    "plt.hist(y_train_under, bins=5)"
   ]
  },
  {
   "cell_type": "markdown",
   "metadata": {},
   "source": [
    "### Over Sampling "
   ]
  },
  {
   "cell_type": "code",
   "execution_count": null,
   "metadata": {},
   "outputs": [],
   "source": [
    "\n",
    "c0 = max(np.count_nonzero(y_train_under == 0), int((1/3)*y_train.shape[0]))\n",
    "c1 = max(np.count_nonzero(y_train_under == 1), int((1/4)*y_train.shape[0]))\n",
    "c2 = max(np.count_nonzero(y_train_under == 2), int((1/5)*y_train.shape[0]))\n",
    "c3 = max(np.count_nonzero(y_train_under == 3), int((1/6)*y_train.shape[0]))\n",
    "c4 = max(np.count_nonzero(y_train_under == 4), int((1/7)*y_train.shape[0]))\n",
    "\n",
    "from imblearn.over_sampling import SMOTE\n",
    "\n",
    "sm = SMOTE(k_neighbors=1, n_jobs=-1, sampling_strategy={0:c0,1:c1,2:c2,3:c3,4:c4}, random_state=20)\n",
    "x_train_over, y_train_over = sm.fit_resample(x_train_under, y_train_under)\n",
    "entry_number_step4 = x_train_over.shape[0]\n",
    "print('Samples before oversampling: {}'.format(x_train_under_dim))\n",
    "print('Samples after oversampling: {}'.format(entry_number_step4))\n",
    "print('Samples added: {}'.format(entry_number_step4-x_train_under_dim))\n",
    "\n",
    "\n",
    "plt.hist(y_train_over, bins=5)\n"
   ]
  },
  {
   "cell_type": "code",
   "execution_count": null,
   "metadata": {},
   "outputs": [],
   "source": [
    "train_perc = round((x_train_over.shape[0]/(x_train_over.shape[0]+X_test.shape[0]))*100, 2)\n",
    "print('train set dimention: {} ({}%)'.format(x_train_over.shape[0], train_perc))\n",
    "print('test set dimention: {} ({}%)'.format(X_test.shape[0], 100-train_perc))\n",
    "\n",
    "fit_models(models, x_train_over, y_train_over)\n",
    "evaluate_models(models, X_test, y_test,x_scal,y_disc)"
   ]
  },
  {
   "cell_type": "markdown",
   "metadata": {},
   "source": [
    "### Model Tuning"
   ]
  },
  {
   "cell_type": "code",
   "execution_count": null,
   "metadata": {},
   "outputs": [],
   "source": [
    "from sklearn.model_selection import GridSearchCV\n",
    "\n",
    "def tune_model(model, param_grid, scoring, x_train, y_train, grid_jobs):\n",
    "    print('tuning...')\n",
    "    clf = GridSearchCV(estimator=model, param_grid=param_grid, scoring=scoring, verbose=1, n_jobs=grid_jobs)\n",
    "    clf.fit(x_train, y_train.ravel())\n",
    "    print('done')\n",
    "    print()\n",
    "    print(\"Best: %f using %s\" % (clf.best_score_, clf.best_params_))\n",
    "    best_params = clf.best_params_.copy()\n",
    "    return best_params\n",
    "\n",
    "c0 = min(np.count_nonzero(y_train == 0), int((1/6)*y_train.shape[0]))\n",
    "c1 = min(np.count_nonzero(y_train == 1), int((1/8)*y_train.shape[0]))\n",
    "c2 = min(np.count_nonzero(y_train == 2), int((1/10)*y_train.shape[0]))\n",
    "c3 = min(np.count_nonzero(y_train == 3), int((1/12)*y_train.shape[0]))\n",
    "c4 = min(np.count_nonzero(y_train == 4), int((1/14)*y_train.shape[0]))\n",
    "\n",
    "\n",
    "     \n",
    "\n",
    "rus = RandomUnderSampler(sampling_strategy={0:c0, 1:c1, 2:c2, 3:c3,4:c4}, random_state=20)\n",
    "x_tuning, y_tuning = rus.fit_resample(X_train, y_train)\n",
    "\n",
    "\n",
    "     \n",
    "\n",
    "c0 = max(np.count_nonzero(y_tuning == 0), int((1/6)*y_train.shape[0]))\n",
    "c1 = max(np.count_nonzero(y_tuning == 1), int((1/8)*y_train.shape[0]))\n",
    "c2 = max(np.count_nonzero(y_tuning == 2), int((1/10)*y_train.shape[0]))\n",
    "c3 = max(np.count_nonzero(y_tuning == 3), int((1/12)*y_train.shape[0]))\n",
    "c4 = max(np.count_nonzero(y_tuning == 4), int((1/14)*y_train.shape[0]))\n",
    "\n",
    "\n",
    "     \n",
    "\n",
    "sm = SMOTE(k_neighbors=1, n_jobs=-1, sampling_strategy={0:c0,1:c1,2:c2,3:c3,4:c4}, random_state=20)\n",
    "x_tuning, y_tuning = sm.fit_resample(x_tuning, y_tuning)\n",
    "\n",
    "\n",
    "     \n",
    "\n",
    "plt.hist(y_tuning, bins=5)\n",
    "\n",
    "SVM_param_grid = {\n",
    "    'C': [0.5, 1],\n",
    "    'kernel': ['rbf', 'sigmoid'],\n",
    "    'gamma': ['scale', 'auto'],\n",
    "    'decision_function_shape': ['ovo', 'ovr'],\n",
    "    'random_state': [20]\n",
    "}\n",
    "\n",
    "best_accuracy_params = tune_model(SVC(), SVM_param_grid, 'accuracy', x_tuning, y_tuning, -1)\n",
    "\n",
    "best_f1macro_params = tune_model(SVC(), SVM_param_grid, 'f1_macro',  x_tuning, y_tuning, -1)\n",
    "\n",
    "tuned_models = {\n",
    "    'SVM_accuracy': SVC(**best_accuracy_params),\n",
    "    'SVM_f1macro': SVC(**best_f1macro_params)\n",
    "}\n",
    "\n",
    "fit_models(tuned_models, x_train_over, y_train_over)\n",
    "\n",
    "evaluate_models(tuned_models, X_test, y_test, x_scal, y_disc)\n",
    "\n"
   ]
  },
  {
   "cell_type": "markdown",
   "metadata": {},
   "source": [
    "## Classification"
   ]
  },
  {
   "cell_type": "markdown",
   "metadata": {},
   "source": [
    "## Regression"
   ]
  },
  {
   "cell_type": "code",
   "execution_count": null,
   "metadata": {},
   "outputs": [],
   "source": []
  }
 ],
 "metadata": {
  "kernelspec": {
   "display_name": "Python 3.7.0 ('ML')",
   "language": "python",
   "name": "python3"
  },
  "language_info": {
   "codemirror_mode": {
    "name": "ipython",
    "version": 3
   },
   "file_extension": ".py",
   "mimetype": "text/x-python",
   "name": "python",
   "nbconvert_exporter": "python",
   "pygments_lexer": "ipython3",
   "version": "3.7.0"
  },
  "orig_nbformat": 4,
  "vscode": {
   "interpreter": {
    "hash": "c670ac35db891ad3c6efa3d4c21e5a337aa3c10262bcff6b2af6c6f4d37f1c19"
   }
  }
 },
 "nbformat": 4,
 "nbformat_minor": 2
}
